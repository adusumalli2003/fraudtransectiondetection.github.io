{
 "cells": [
  {
   "cell_type": "markdown",
   "id": "d675d963",
   "metadata": {},
   "source": [
    "# FinanceMax needs to detect fraudulent transactions in real-time. How can they use machine learning to build an effective fraud detection system?"
   ]
  },
  {
   "cell_type": "markdown",
   "id": "6cfa6bde",
   "metadata": {},
   "source": [
    "## Goal:\n",
    "- The goal of the project is to develop and deploy a machine learning-based fraud detection system for FinanceMax that can accurately and efficiently identify fraudulent transactions in real-time, thereby minimizing financial losses and maintaining the integrity of the financial ecosystem. The system should leverage advanced algorithms and data analysis techniques to continuously monitor incoming transactions, flag suspicious activities, and take appropriate actions to mitigate risks, such as blocking transactions or alerting the relevant authorities for further investigation."
   ]
  },
  {
   "cell_type": "markdown",
   "id": "3fda1d18",
   "metadata": {},
   "source": [
    "## Libraries"
   ]
  },
  {
   "cell_type": "code",
   "execution_count": 1,
   "id": "3498e110",
   "metadata": {},
   "outputs": [],
   "source": [
    "\n",
    "import numpy as np\n",
    "import seaborn as sns\n",
    "import matplotlib.pyplot as plt\n",
    "from sklearn.model_selection import train_test_split\n",
    "from sklearn.preprocessing import LabelEncoder\n",
    "from sklearn.linear_model import LogisticRegression\n",
    "from sklearn.ensemble import RandomForestClassifier\n",
    "from sklearn.svm import SVCimport pandas as pd\n",
    "from sklearn.metrics import accuracy_score, classification_report"
   ]
  },
  {
   "cell_type": "markdown",
   "id": "911c9c1b",
   "metadata": {},
   "source": [
    "## Data"
   ]
  },
  {
   "cell_type": "code",
   "execution_count": 2,
   "id": "ee66266c",
   "metadata": {},
   "outputs": [],
   "source": [
    "df = pd.read_csv(\"transactiondata.csv\")"
   ]
  },
  {
   "cell_type": "code",
   "execution_count": 3,
   "id": "96cd69d2",
   "metadata": {},
   "outputs": [
    {
     "data": {
      "text/html": [
       "<div>\n",
       "<style scoped>\n",
       "    .dataframe tbody tr th:only-of-type {\n",
       "        vertical-align: middle;\n",
       "    }\n",
       "\n",
       "    .dataframe tbody tr th {\n",
       "        vertical-align: top;\n",
       "    }\n",
       "\n",
       "    .dataframe thead th {\n",
       "        text-align: right;\n",
       "    }\n",
       "</style>\n",
       "<table border=\"1\" class=\"dataframe\">\n",
       "  <thead>\n",
       "    <tr style=\"text-align: right;\">\n",
       "      <th></th>\n",
       "      <th>TransactionID</th>\n",
       "      <th>Amount</th>\n",
       "      <th>Timestamp</th>\n",
       "      <th>TransactionLocation</th>\n",
       "      <th>IsFraud</th>\n",
       "    </tr>\n",
       "  </thead>\n",
       "  <tbody>\n",
       "    <tr>\n",
       "      <th>0</th>\n",
       "      <td>8036</td>\n",
       "      <td>2763.365182</td>\n",
       "      <td>57:31.1</td>\n",
       "      <td>Chicago</td>\n",
       "      <td>1</td>\n",
       "    </tr>\n",
       "    <tr>\n",
       "      <th>1</th>\n",
       "      <td>2443</td>\n",
       "      <td>762.139911</td>\n",
       "      <td>57:31.1</td>\n",
       "      <td>Chennai</td>\n",
       "      <td>0</td>\n",
       "    </tr>\n",
       "    <tr>\n",
       "      <th>2</th>\n",
       "      <td>3227</td>\n",
       "      <td>242.295305</td>\n",
       "      <td>57:31.1</td>\n",
       "      <td>Chennai</td>\n",
       "      <td>0</td>\n",
       "    </tr>\n",
       "    <tr>\n",
       "      <th>3</th>\n",
       "      <td>2843</td>\n",
       "      <td>918.508006</td>\n",
       "      <td>57:31.1</td>\n",
       "      <td>Chennai</td>\n",
       "      <td>0</td>\n",
       "    </tr>\n",
       "    <tr>\n",
       "      <th>4</th>\n",
       "      <td>2237</td>\n",
       "      <td>892.410196</td>\n",
       "      <td>57:31.1</td>\n",
       "      <td>Mumbai</td>\n",
       "      <td>0</td>\n",
       "    </tr>\n",
       "  </tbody>\n",
       "</table>\n",
       "</div>"
      ],
      "text/plain": [
       "   TransactionID       Amount Timestamp TransactionLocation  IsFraud\n",
       "0           8036  2763.365182   57:31.1             Chicago        1\n",
       "1           2443   762.139911   57:31.1             Chennai        0\n",
       "2           3227   242.295305   57:31.1             Chennai        0\n",
       "3           2843   918.508006   57:31.1             Chennai        0\n",
       "4           2237   892.410196   57:31.1              Mumbai        0"
      ]
     },
     "execution_count": 3,
     "metadata": {},
     "output_type": "execute_result"
    }
   ],
   "source": [
    "df.head()"
   ]
  },
  {
   "cell_type": "markdown",
   "id": "697343ed",
   "metadata": {},
   "source": [
    "## Pre Processing"
   ]
  },
  {
   "cell_type": "code",
   "execution_count": 4,
   "id": "0e2726b1",
   "metadata": {},
   "outputs": [
    {
     "name": "stdout",
     "output_type": "stream",
     "text": [
      "       TransactionID       Amount      IsFraud\n",
      "count    8200.000000  8200.000000  8200.000000\n",
      "mean     4100.500000   546.415848     0.024390\n",
      "std      2367.280437   480.744322     0.154267\n",
      "min         1.000000     1.011623     0.000000\n",
      "25%      2050.750000   249.438239     0.000000\n",
      "50%      4100.500000   503.990179     0.000000\n",
      "75%      6150.250000   761.233571     0.000000\n",
      "max      8200.000000  4978.482686     1.000000\n"
     ]
    }
   ],
   "source": [
    "# Display basic statistics\n",
    "print(df.describe())"
   ]
  },
  {
   "cell_type": "markdown",
   "id": "f99f2932",
   "metadata": {},
   "source": [
    "## EDA"
   ]
  },
  {
   "cell_type": "markdown",
   "id": "c67ba13f",
   "metadata": {},
   "source": [
    "## Feature Analysis"
   ]
  },
  {
   "cell_type": "markdown",
   "id": "e262df8f",
   "metadata": {},
   "source": [
    "##### TransactionID:\n",
    "- Unique identifier for each transaction.\n",
    "##### Amount:\n",
    "- The monetary value of the transaction.\n",
    "##### Timestamp:\n",
    "- The time at which the transaction occurred.\n",
    "##### TransactionLocation:\n",
    "- The location where the transaction took place.\n",
    "##### IsFraud:\n",
    "- A binary indicator (0 or 1) denoting whether the transaction is fraudulent or not.\n"
   ]
  },
  {
   "cell_type": "markdown",
   "id": "4f4b53cf",
   "metadata": {},
   "source": [
    "### Distribution of legitimate and fraudulent transactions"
   ]
  },
  {
   "cell_type": "code",
   "execution_count": 5,
   "id": "dc22ff52",
   "metadata": {},
   "outputs": [
    {
     "data": {
      "text/plain": [
       "Text(0.5, 1.0, 'Distribution of Legitimate and Fraudulent Transactions')"
      ]
     },
     "execution_count": 5,
     "metadata": {},
     "output_type": "execute_result"
    },
    {
     "data": {
      "image/png": "[encoded data removed]",
      "text/plain": [
       "<Figure size 640x480 with 1 Axes>"
      ]
     },
     "metadata": {},
     "output_type": "display_data"
    }
   ],
   "source": [
    "sns.countplot(x='IsFraud', data=df)\n",
    "plt.title('Distribution of Legitimate and Fraudulent Transactions')"
   ]
  },
  {
   "cell_type": "markdown",
   "id": "e6fdacbc",
   "metadata": {},
   "source": [
    "### Distribution of transaction amounts"
   ]
  },
  {
   "cell_type": "code",
   "execution_count": 6,
   "id": "3c043041",
   "metadata": {},
   "outputs": [
    {
     "data": {
      "text/plain": [
       "Text(0, 0.5, 'Frequency')"
      ]
     },
     "execution_count": 6,
     "metadata": {},
     "output_type": "execute_result"
    },
    {
     "data": {
      "image/png": "[encoded data removed]",
      "text/plain": [
       "<Figure size 1000x600 with 1 Axes>"
      ]
     },
     "metadata": {},
     "output_type": "display_data"
    }
   ],
   "source": [
    "plt.figure(figsize=(10, 6))\n",
    "sns.histplot(data=df, x='Amount', bins=50, kde=True, hue='IsFraud', multiple='stack')\n",
    "plt.title('Distribution of Transaction Amounts')\n",
    "plt.xlabel('Amount')\n",
    "plt.ylabel('Frequency')"
   ]
  },
  {
   "cell_type": "markdown",
   "id": "f6ed3aa4",
   "metadata": {},
   "source": [
    "### Transaction locations for legitimate and fraudulent transactions"
   ]
  },
  {
   "cell_type": "code",
   "execution_count": 7,
   "id": "7983f62b",
   "metadata": {},
   "outputs": [
    {
     "data": {
      "text/plain": [
       "Text(0.5, 1.0, 'Transaction Locations for Legitimate and Fraudulent Transactions')"
      ]
     },
     "execution_count": 7,
     "metadata": {},
     "output_type": "execute_result"
    },
    {
     "data": {
      "image/png": "[encoded data removed]",
      "text/plain": [
       "<Figure size 1200x600 with 1 Axes>"
      ]
     },
     "metadata": {},
     "output_type": "display_data"
    }
   ],
   "source": [
    "plt.figure(figsize=(12, 6))\n",
    "sns.countplot(x='TransactionLocation', hue='IsFraud', data=df)\n",
    "plt.title('Transaction Locations for Legitimate and Fraudulent Transactions')"
   ]
  },
  {
   "cell_type": "markdown",
   "id": "0f402255",
   "metadata": {},
   "source": [
    "## Modal Comparission"
   ]
  },
  {
   "cell_type": "code",
   "execution_count": 8,
   "id": "8f6c0d52",
   "metadata": {},
   "outputs": [
    {
     "name": "stdout",
     "output_type": "stream",
     "text": [
      "Logistic Regression:\n",
      "              precision    recall  f1-score   support\n",
      "\n",
      "           0       1.00      1.00      1.00      1607\n",
      "           1       1.00      0.79      0.88        33\n",
      "\n",
      "    accuracy                           1.00      1640\n",
      "   macro avg       1.00      0.89      0.94      1640\n",
      "weighted avg       1.00      1.00      1.00      1640\n",
      "\n",
      "Accuracy: 0.9957317073170732\n",
      "\n",
      "Random Forest:\n",
      "              precision    recall  f1-score   support\n",
      "\n",
      "           0       1.00      1.00      1.00      1607\n",
      "           1       1.00      1.00      1.00        33\n",
      "\n",
      "    accuracy                           1.00      1640\n",
      "   macro avg       1.00      1.00      1.00      1640\n",
      "weighted avg       1.00      1.00      1.00      1640\n",
      "\n",
      "Accuracy: 1.0\n",
      "\n",
      "Support Vector Machine:\n",
      "              precision    recall  f1-score   support\n",
      "\n",
      "           0       1.00      1.00      1.00      1607\n",
      "           1       1.00      0.76      0.86        33\n",
      "\n",
      "    accuracy                           1.00      1640\n",
      "   macro avg       1.00      0.88      0.93      1640\n",
      "weighted avg       1.00      1.00      0.99      1640\n",
      "\n",
      "Accuracy: 0.9951219512195122\n"
     ]
    }
   ],
   "source": [
    "# Load the dataset\n",
    "df = pd.read_csv(\"transactiondata.csv\")\n",
    "\n",
    "# Preprocessing\n",
    "# Drop unnecessary columns\n",
    "df = df.drop('TransactionID', axis=1)\n",
    "\n",
    "# Split the 'Timestamp' column into minutes and seconds\n",
    "df[['Minutes', 'Seconds']] = df['Timestamp'].str.split(':', expand=True)\n",
    "\n",
    "# Convert minutes and seconds to float\n",
    "df['Minutes'] = df['Minutes'].astype(float)\n",
    "df['Seconds'] = df['Seconds'].astype(float)\n",
    "\n",
    "# Convert the time to seconds\n",
    "df['Timestamp_seconds'] = df['Minutes'] * 60 + df['Seconds']\n",
    "\n",
    "# Drop the original 'Timestamp' column and the intermediate columns\n",
    "df = df.drop(['Timestamp', 'Minutes', 'Seconds'], axis=1)\n",
    "\n",
    "# Now 'Timestamp_seconds' column contains the time in seconds\n",
    "\n",
    "# Continue with the rest of the preprocessing steps and model training\n",
    "\n",
    "\n",
    "# Encode categorical variables\n",
    "label_encoder = LabelEncoder()\n",
    "df['TransactionLocation'] = label_encoder.fit_transform(df['TransactionLocation'])\n",
    "\n",
    "# Splitting the data into features (X) and target variable (y)\n",
    "X = df.drop('IsFraud', axis=1)\n",
    "y = df['IsFraud']\n",
    "\n",
    "# Splitting the dataset into training and testing sets\n",
    "X_train, X_test, y_train, y_test = train_test_split(X, y, test_size=0.2, random_state=42)\n",
    "\n",
    "# Initialize the classifiers\n",
    "logistic_regression = LogisticRegression(random_state=42)\n",
    "random_forest = RandomForestClassifier(random_state=42)\n",
    "svm_classifier = SVC(random_state=42)\n",
    "\n",
    "# Train the models\n",
    "logistic_regression.fit(X_train, y_train)\n",
    "random_forest.fit(X_train, y_train)\n",
    "svm_classifier.fit(X_train, y_train)\n",
    "\n",
    "# Make predictions\n",
    "y_pred_lr = logistic_regression.predict(X_test)\n",
    "y_pred_rf = random_forest.predict(X_test)\n",
    "y_pred_svm = svm_classifier.predict(X_test)\n",
    "\n",
    "# Evaluate the models\n",
    "print(\"Logistic Regression:\")\n",
    "print(classification_report(y_test, y_pred_lr))\n",
    "print(\"Accuracy:\", accuracy_score(y_test, y_pred_lr))\n",
    "\n",
    "print(\"\\nRandom Forest:\")\n",
    "print(classification_report(y_test, y_pred_rf))\n",
    "print(\"Accuracy:\", accuracy_score(y_test, y_pred_rf))\n",
    "\n",
    "print(\"\\nSupport Vector Machine:\")\n",
    "print(classification_report(y_test, y_pred_svm))\n",
    "print(\"Accuracy:\", accuracy_score(y_test, y_pred_svm))\n"
   ]
  },
  {
   "cell_type": "markdown",
   "id": "697a1a50",
   "metadata": {},
   "source": [
    "### Final Modal"
   ]
  },
  {
   "cell_type": "code",
   "execution_count": 4,
   "id": "7421b192",
   "metadata": {},
   "outputs": [
    {
     "name": "stdout",
     "output_type": "stream",
     "text": [
      "Random Forest Classifier:\n",
      "              precision    recall  f1-score   support\n",
      "\n",
      "           0       1.00      1.00      1.00      1607\n",
      "           1       1.00      1.00      1.00        33\n",
      "\n",
      "    accuracy                           1.00      1640\n",
      "   macro avg       1.00      1.00      1.00      1640\n",
      "weighted avg       1.00      1.00      1.00      1640\n",
      "\n",
      "Accuracy: 1.0\n"
     ]
    }
   ],
   "source": [
    "import pandas as pd\n",
    "from sklearn.model_selection import train_test_split\n",
    "from sklearn.ensemble import RandomForestClassifier\n",
    "from sklearn.metrics import classification_report, accuracy_score\n",
    "from sklearn.preprocessing import OneHotEncoder\n",
    "\n",
    "# Load the dataset\n",
    "df = pd.read_csv(\"transactiondata.csv\")\n",
    "\n",
    "# Preprocessing\n",
    "# Drop unnecessary columns\n",
    "df = df.drop('TransactionID', axis=1)\n",
    "\n",
    "# Split the 'Timestamp' column into minutes and seconds\n",
    "df[['Minutes', 'Seconds']] = df['Timestamp'].str.split(':', expand=True)\n",
    "\n",
    "# Convert minutes and seconds to float\n",
    "df['Minutes'] = df['Minutes'].astype(float)\n",
    "df['Seconds'] = df['Seconds'].astype(float)\n",
    "\n",
    "# Convert the time to seconds\n",
    "df['Timestamp_seconds'] = df['Minutes'] * 60 + df['Seconds']\n",
    "\n",
    "# Drop the original 'Timestamp' column and the intermediate columns\n",
    "df = df.drop(['Timestamp', 'Minutes', 'Seconds'], axis=1)\n",
    "\n",
    "# Encode categorical variables using one-hot encoding\n",
    "encoder = OneHotEncoder()\n",
    "df_encoded = pd.DataFrame(encoder.fit_transform(df[['TransactionLocation']]).toarray(), columns=encoder.categories_[0])\n",
    "\n",
    "# Concatenate the encoded features with the original dataframe\n",
    "df = pd.concat([df.drop(['TransactionLocation'], axis=1), df_encoded], axis=1)\n",
    "\n",
    "# Splitting the data into features (X) and target variable (y)\n",
    "X = df.drop('IsFraud', axis=1)\n",
    "y = df['IsFraud']\n",
    "\n",
    "# Splitting the dataset into training and testing sets\n",
    "X_train, X_test, y_train, y_test = train_test_split(X, y, test_size=0.2, random_state=42)\n",
    "\n",
    "# Initialize the Random Forest classifier\n",
    "random_forest = RandomForestClassifier(random_state=42)\n",
    "\n",
    "# Train the Random Forest classifier\n",
    "random_forest.fit(X_train, y_train)\n",
    "\n",
    "# Make predictions\n",
    "y_pred = random_forest.predict(X_test)\n",
    "\n",
    "# Evaluate the model\n",
    "print(\"Random Forest Classifier:\")\n",
    "print(classification_report(y_test, y_pred))\n",
    "print(\"Accuracy:\", accuracy_score(y_test, y_pred))\n"
   ]
  },
  {
   "cell_type": "markdown",
   "id": "fe0cf091",
   "metadata": {},
   "source": [
    "### Final Modal With User Given Input "
   ]
  },
  {
   "cell_type": "code",
   "execution_count": 6,
   "id": "5acc23bd",
   "metadata": {},
   "outputs": [
    {
     "name": "stdout",
     "output_type": "stream",
     "text": [
      "The transaction is predicted to be legitimate.\n"
     ]
    }
   ],
   "source": [
    "# Assuming the features for the user are provided in a dictionary\n",
    "user_features = {\n",
    "    'Amount': 918.5080057,\n",
    "    'TransactionLocation': 'Chennai'  # Assuming the user's transaction location is Chicago\n",
    "}\n",
    "\n",
    "# Create a DataFrame with the user features\n",
    "user_df = pd.DataFrame(user_features, index=[0])\n",
    "\n",
    "# Preprocess the user data similar to the training data\n",
    "# Split the 'Timestamp' column into minutes and seconds\n",
    "user_df[['Minutes', 'Seconds']] = '57:31.1'.split(':')\n",
    "# Convert minutes and seconds to float\n",
    "user_df['Minutes'] = user_df['Minutes'].astype(float)\n",
    "user_df['Seconds'] = user_df['Seconds'].astype(float)\n",
    "# Convert the time to seconds\n",
    "user_df['Timestamp_seconds'] = user_df['Minutes'] * 60 + user_df['Seconds']\n",
    "# Drop the original 'Timestamp' column and the intermediate columns\n",
    "user_df = user_df.drop(['Minutes', 'Seconds'], axis=1)\n",
    "\n",
    "# Encode categorical variables using the same OneHotEncoder\n",
    "user_encoded = pd.DataFrame(encoder.transform(user_df[['TransactionLocation']]).toarray(), columns=encoder.categories_[0])\n",
    "# Concatenate the encoded features with the original dataframe\n",
    "user_df = pd.concat([user_df.drop(['TransactionLocation'], axis=1), user_encoded], axis=1)\n",
    "\n",
    "# Make predictions for the user\n",
    "user_prediction = random_forest.predict(user_df)\n",
    "\n",
    "# Print the prediction\n",
    "if user_prediction[0] == 1:\n",
    "    print(\"The transaction is predicted to be fraudulent.\")\n",
    "else:\n",
    "    print(\"The transaction is predicted to be legitimate.\")\n"
   ]
  },
  {
   "cell_type": "code",
   "execution_count": 7,
   "id": "47f4140d",
   "metadata": {},
   "outputs": [
    {
     "name": "stdout",
     "output_type": "stream",
     "text": [
      "The transaction is predicted to be fraudulent.\n"
     ]
    }
   ],
   "source": [
    "import pandas as pd\n",
    "user_features = {\n",
    "    'Amount': float(input(\"Enter the transaction amount: \")),\n",
    "    'TransactionLocation': input(\"Enter the transaction location: \")  # Assuming the user's transaction location is Chicago\n",
    "}\n",
    "\n",
    "# Create a DataFrame with the user features\n",
    "user_df = pd.DataFrame(user_features, index=[0])\n",
    "\n",
    "# Preprocess the user data similar to the training data\n",
    "# Split the 'Timestamp' column into minutes and seconds\n",
    "user_df[['Minutes', 'Seconds']] = input(\"Enter the timestamp (MM:SS.S): \").split(':')\n",
    "# Convert minutes and seconds to float\n",
    "user_df['Minutes'] = user_df['Minutes'].astype(float)\n",
    "user_df['Seconds'] = user_df['Seconds'].astype(float)\n",
    "# Convert the time to seconds\n",
    "user_df['Timestamp_seconds'] = user_df['Minutes'] * 60 + user_df['Seconds']\n",
    "# Drop the original 'Timestamp' column and the intermediate columns\n",
    "user_df = user_df.drop(['Minutes', 'Seconds'], axis=1)\n",
    "\n",
    "# Encode categorical variables using the same OneHotEncoder\n",
    "user_encoded = pd.DataFrame(encoder.transform(user_df[['TransactionLocation']]).toarray(), columns=encoder.categories_[0])\n",
    "# Concatenate the encoded features with the original dataframe\n",
    "user_df = pd.concat([user_df.drop(['TransactionLocation'], axis=1), user_encoded], axis=1)\n",
    "\n",
    "# Make predictions for the user\n",
    "user_prediction = random_forest.predict(user_df)\n",
    "\n",
    "# Print the prediction\n",
    "if user_prediction[0] == 1:\n",
    "    print(\"The transaction is predicted to be fraudulent.\")\n",
    "else:\n",
    "    print(\"The transaction is predicted to be legitimate.\")\n"
   ]
  },
  {
   "cell_type": "raw",
   "id": "47a70305",
   "metadata": {},
   "source": [
    "8036,2763.365182,57:31.1,Chicago,1"
   ]
  }
 ],
 "metadata": {
  "kernelspec": {
   "display_name": "Python 3 (ipykernel)",
   "language": "python",
   "name": "python3"
  },
  "language_info": {
   "codemirror_mode": {
    "name": "ipython",
    "version": 3
   },
   "file_extension": ".py",
   "mimetype": "text/x-python",
   "name": "python",
   "nbconvert_exporter": "python",
   "pygments_lexer": "ipython3",
   "version": "3.11.4"
  }
 },
 "nbformat": 4,
 "nbformat_minor": 5
}
